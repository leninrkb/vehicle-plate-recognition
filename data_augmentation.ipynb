{
 "cells": [
  {
   "cell_type": "code",
   "execution_count": 392,
   "metadata": {},
   "outputs": [],
   "source": [
    "import albumentations as al\n",
    "import cv2 as cv\n",
    "import data_extraction as dx\n",
    "import matplotlib.pyplot as plt\n",
    "import data_preparation as dp\n",
    "import utils as ut"
   ]
  },
  {
   "cell_type": "code",
   "execution_count": 18,
   "metadata": {},
   "outputs": [],
   "source": [
    "def show(img):\n",
    "    plt.figure(figsize=(3,3))\n",
    "    plt.imshow(img, cmap=\"gray\")\n",
    "    plt.axis(\"off\")\n",
    "    plt.show()"
   ]
  },
  {
   "cell_type": "code",
   "execution_count": 590,
   "metadata": {},
   "outputs": [
    {
     "name": "stdout",
     "output_type": "stream",
     "text": [
      "loading data set\n",
      "loading current dir: B\n",
      "loading current dir: H\n",
      "loading current dir: 0\n",
      "loading current dir: Q\n",
      "loading current dir: V\n",
      "loading current dir: 9\n",
      "loading current dir: A\n",
      "loading current dir: K\n",
      "loading current dir: 4\n",
      "loading current dir: 5\n",
      "loading current dir: E\n",
      "loading current dir: 2\n",
      "loading current dir: G\n",
      "loading current dir: 7\n",
      "loading current dir: M\n",
      "loading current dir: U\n",
      "loading current dir: Y\n",
      "loading current dir: I\n",
      "loading current dir: W\n",
      "loading current dir: Z\n",
      "loading current dir: D\n",
      "loading current dir: P\n",
      "loading current dir: N\n",
      "loading current dir: S\n",
      "loading current dir: F\n",
      "loading current dir: 1\n",
      "loading current dir: 6\n",
      "loading current dir: 3\n",
      "loading current dir: L\n",
      "loading current dir: C\n",
      "loading current dir: X\n",
      "loading current dir: R\n",
      "loading current dir: 8\n",
      "loading current dir: O\n",
      "loading current dir: J\n",
      "loading current dir: T\n",
      "loading data set - done\n"
     ]
    }
   ],
   "source": [
    "data = []\n",
    "labels = []\n",
    "dx.loadDataset(\"/home/lenin/Downloads/DATASET_IA\", data, labels)"
   ]
  },
  {
   "cell_type": "code",
   "execution_count": 378,
   "metadata": {},
   "outputs": [
    {
     "data": {
      "image/png": "[encoded data removed]",
      "text/plain": [
       "<Figure size 300x300 with 1 Axes>"
      ]
     },
     "metadata": {},
     "output_type": "display_data"
    },
    {
     "name": "stdout",
     "output_type": "stream",
     "text": [
      "B\n"
     ]
    }
   ],
   "source": [
    "show(data[0])\n",
    "print(labels[0])"
   ]
  },
  {
   "cell_type": "code",
   "execution_count": 379,
   "metadata": {},
   "outputs": [
    {
     "data": {
      "image/png": "[encoded data removed]",
      "text/plain": [
       "<Figure size 300x300 with 1 Axes>"
      ]
     },
     "metadata": {},
     "output_type": "display_data"
    }
   ],
   "source": [
    "dp.resizeData(data, 28)\n",
    "show(data[0])"
   ]
  },
  {
   "cell_type": "code",
   "execution_count": 584,
   "metadata": {},
   "outputs": [],
   "source": [
    "transform = al.Compose([\n",
    "    al.CLAHE(),\n",
    "    # al.RandomRotate90(),\n",
    "    # al.Transpose(),\n",
    "    al.ShiftScaleRotate(shift_limit=0.05, scale_limit=0.01, rotate_limit=15, p=.8, border_mode=cv.BORDER_DEFAULT),\n",
    "    # al.Blur(blur_limit=3),\n",
    "    al.OpticalDistortion(),\n",
    "    al.GridDistortion(),\n",
    "    # al.HueSaturationValue(),\n",
    "])"
   ]
  },
  {
   "cell_type": "code",
   "execution_count": 583,
   "metadata": {},
   "outputs": [
    {
     "data": {
      "image/png": "[encoded data removed]",
      "text/plain": [
       "<Figure size 300x300 with 1 Axes>"
      ]
     },
     "metadata": {},
     "output_type": "display_data"
    }
   ],
   "source": [
    "img = data[-80]\n",
    "_, img = cv.threshold(img, 0, 255, cv.THRESH_OTSU)\n",
    "new = transform(image=img)[\"image\"]\n",
    "\n",
    "show(new)"
   ]
  },
  {
   "cell_type": "code",
   "execution_count": 591,
   "metadata": {},
   "outputs": [],
   "source": [
    "augmentation_per_img = 10\n",
    "new_data = data[:]\n",
    "new_labels = labels[:]\n",
    "for i in range(len(data)):\n",
    "    current = data[i]\n",
    "    _, current = cv.threshold(current, 0, 255, cv.THRESH_OTSU)\n",
    "    for __ in range(augmentation_per_img):\n",
    "        new_img = transform(image=current)[\"image\"]\n",
    "        new_data.append(new_img)\n",
    "        new_labels.append(labels[i])"
   ]
  },
  {
   "cell_type": "code",
   "execution_count": 596,
   "metadata": {},
   "outputs": [],
   "source": [
    "def augmentation(data, labels, augmentation_per_img)->(data,labels):\n",
    "    new_data = data[:]\n",
    "    new_labels = labels[:]\n",
    "    for i in range(len(data)):\n",
    "        current = data[i]\n",
    "        _, current = cv.threshold(current, 0, 255, cv.THRESH_OTSU)\n",
    "        for __ in range(augmentation_per_img):\n",
    "            new_img = transform(image=current)[\"image\"]\n",
    "            new_data.append(new_img)\n",
    "            new_labels.append(labels[i])\n",
    "    return new_data, new_labels"
   ]
  },
  {
   "cell_type": "code",
   "execution_count": 587,
   "metadata": {},
   "outputs": [
    {
     "name": "stdout",
     "output_type": "stream",
     "text": [
      "3960\n"
     ]
    },
    {
     "data": {
      "image/png": "[encoded data removed]",
      "text/plain": [
       "<Figure size 300x300 with 1 Axes>"
      ]
     },
     "metadata": {},
     "output_type": "display_data"
    },
    {
     "name": "stdout",
     "output_type": "stream",
     "text": [
      "6\n"
     ]
    }
   ],
   "source": [
    "print(len(new_data))\n",
    "show(new_data[-1000])\n",
    "print(new_labels[-1000])"
   ]
  },
  {
   "cell_type": "code",
   "execution_count": 592,
   "metadata": {},
   "outputs": [
    {
     "data": {
      "image/png": "[encoded data removed]",
      "text/plain": [
       "<Figure size 300x300 with 1 Axes>"
      ]
     },
     "metadata": {},
     "output_type": "display_data"
    }
   ],
   "source": [
    "dp.binarizeData(new_data)\n",
    "show(new_data[-1000])"
   ]
  },
  {
   "cell_type": "code",
   "execution_count": 593,
   "metadata": {},
   "outputs": [
    {
     "name": "stdout",
     "output_type": "stream",
     "text": [
      "create empty dir\n",
      "create empty dir - done\n",
      "writting dataset\n",
      "writting dir: B\n",
      "writting dir: H\n",
      "writting dir: 0\n",
      "writting dir: Q\n",
      "writting dir: V\n",
      "writting dir: 9\n",
      "writting dir: A\n",
      "writting dir: K\n",
      "writting dir: 4\n",
      "writting dir: 5\n",
      "writting dir: E\n",
      "writting dir: 2\n",
      "writting dir: G\n",
      "writting dir: 7\n",
      "writting dir: M\n",
      "writting dir: U\n",
      "writting dir: Y\n",
      "writting dir: I\n",
      "writting dir: W\n",
      "writting dir: Z\n",
      "writting dir: D\n",
      "writting dir: P\n",
      "writting dir: N\n",
      "writting dir: S\n",
      "writting dir: F\n",
      "writting dir: 1\n",
      "writting dir: 6\n",
      "writting dir: 3\n",
      "writting dir: L\n",
      "writting dir: C\n",
      "writting dir: X\n",
      "writting dir: R\n",
      "writting dir: 8\n",
      "writting dir: O\n",
      "writting dir: J\n",
      "writting dir: T\n",
      "writting dataset - done\n"
     ]
    }
   ],
   "source": [
    "dx.writeDataset(\"/home/lenin/Downloads/new_dataset\", new_data, new_labels)"
   ]
  },
  {
   "cell_type": "code",
   "execution_count": 595,
   "metadata": {},
   "outputs": [],
   "source": [
    "data_original = ut.loadData(\"data_bin\")\n",
    "labels_original = ut.loadData(\"labels\")"
   ]
  },
  {
   "cell_type": "code",
   "execution_count": 597,
   "metadata": {},
   "outputs": [],
   "source": [
    "data1, labels1 = augmentation(data_original, labels_original, 10)"
   ]
  },
  {
   "cell_type": "code",
   "execution_count": 601,
   "metadata": {},
   "outputs": [
    {
     "data": {
      "image/png": "[encoded data removed]",
      "text/plain": [
       "<Figure size 300x300 with 1 Axes>"
      ]
     },
     "metadata": {},
     "output_type": "display_data"
    }
   ],
   "source": [
    "dp.binarizeData(data1)\n",
    "show(data1[0])"
   ]
  },
  {
   "cell_type": "code",
   "execution_count": 602,
   "metadata": {},
   "outputs": [],
   "source": [
    "data1.extend(new_data)\n",
    "labels1.extend(new_labels)"
   ]
  },
  {
   "cell_type": "code",
   "execution_count": 605,
   "metadata": {},
   "outputs": [
    {
     "name": "stdout",
     "output_type": "stream",
     "text": [
      "create empty dir\n",
      "create empty dir - done\n",
      "writting dataset\n",
      "writting dir: 0\n",
      "writting dir: 1\n",
      "writting dir: 2\n",
      "writting dir: 3\n",
      "writting dir: 4\n",
      "writting dir: 5\n",
      "writting dir: 6\n",
      "writting dir: 7\n",
      "writting dir: 8\n",
      "writting dir: 9\n",
      "writting dir: A\n",
      "writting dir: B\n",
      "writting dir: C\n",
      "writting dir: D\n",
      "writting dir: E\n",
      "writting dir: F\n",
      "writting dir: G\n",
      "writting dir: H\n",
      "writting dir: I\n",
      "writting dir: J\n",
      "writting dir: K\n",
      "writting dir: L\n",
      "writting dir: M\n",
      "writting dir: N\n",
      "writting dir: O\n",
      "writting dir: P\n",
      "writting dir: Q\n",
      "writting dir: R\n",
      "writting dir: S\n",
      "writting dir: T\n",
      "writting dir: U\n",
      "writting dir: V\n",
      "writting dir: W\n",
      "writting dir: X\n",
      "writting dir: Y\n",
      "writting dir: Z\n",
      "writting dataset - done\n"
     ]
    }
   ],
   "source": [
    "dx.writeDataset(\"dataset/augmented\", data1, labels1)"
   ]
  },
  {
   "cell_type": "code",
   "execution_count": 606,
   "metadata": {},
   "outputs": [],
   "source": [
    "ut.saveData(\"augmented_data\", data1)\n",
    "ut.saveData(\"augmented_labels\", labels1)"
   ]
  }
 ],
 "metadata": {
  "kernelspec": {
   "display_name": "ia",
   "language": "python",
   "name": "python3"
  },
  "language_info": {
   "codemirror_mode": {
    "name": "ipython",
    "version": 3
   },
   "file_extension": ".py",
   "mimetype": "text/x-python",
   "name": "python",
   "nbconvert_exporter": "python",
   "pygments_lexer": "ipython3",
   "version": "3.10.13"
  }
 },
 "nbformat": 4,
 "nbformat_minor": 2
}

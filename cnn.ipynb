{
 "cells": [
  {
   "cell_type": "code",
   "execution_count": 1,
   "metadata": {},
   "outputs": [
    {
     "name": "stderr",
     "output_type": "stream",
     "text": [
      "2024-01-09 23:03:01.685698: I external/local_tsl/tsl/cuda/cudart_stub.cc:31] Could not find cuda drivers on your machine, GPU will not be used.\n",
      "2024-01-09 23:03:01.745922: E external/local_xla/xla/stream_executor/cuda/cuda_dnn.cc:9261] Unable to register cuDNN factory: Attempting to register factory for plugin cuDNN when one has already been registered\n",
      "2024-01-09 23:03:01.745957: E external/local_xla/xla/stream_executor/cuda/cuda_fft.cc:607] Unable to register cuFFT factory: Attempting to register factory for plugin cuFFT when one has already been registered\n",
      "2024-01-09 23:03:01.747727: E external/local_xla/xla/stream_executor/cuda/cuda_blas.cc:1515] Unable to register cuBLAS factory: Attempting to register factory for plugin cuBLAS when one has already been registered\n",
      "2024-01-09 23:03:01.757280: I external/local_tsl/tsl/cuda/cudart_stub.cc:31] Could not find cuda drivers on your machine, GPU will not be used.\n",
      "2024-01-09 23:03:01.757795: I tensorflow/core/platform/cpu_feature_guard.cc:182] This TensorFlow binary is optimized to use available CPU instructions in performance-critical operations.\n",
      "To enable the following instructions: AVX2 FMA, in other operations, rebuild TensorFlow with the appropriate compiler flags.\n",
      "2024-01-09 23:03:03.022959: W tensorflow/compiler/tf2tensorrt/utils/py_utils.cc:38] TF-TRT Warning: Could not find TensorRT\n"
     ]
    }
   ],
   "source": [
    "import tensorflow as tf\n",
    "import utils as ut\n",
    "import math\n",
    "from sklearn.model_selection import train_test_split\n",
    "import matplotlib.pyplot as plt\n",
    "import numpy as np"
   ]
  },
  {
   "cell_type": "code",
   "execution_count": 2,
   "metadata": {},
   "outputs": [],
   "source": [
    "def show(mat):\n",
    "    plt.figure(figsize = (3,3))\n",
    "    plt.axis(\"off\")\n",
    "    plt.imshow(mat, cmap = \"gray\")\n",
    "    plt.show()"
   ]
  },
  {
   "cell_type": "code",
   "execution_count": 7,
   "metadata": {},
   "outputs": [],
   "source": [
    "data = ut.loadData(\"./models/data_binary\")\n",
    "labels = ut.loadData(\"./models/labels\")\n",
    "classes = ut.loadData(\"./models/classes\")"
   ]
  },
  {
   "cell_type": "code",
   "execution_count": 8,
   "metadata": {},
   "outputs": [],
   "source": [
    "for i in range(len(labels)):\n",
    "    id = classes[labels[i]]\n",
    "    labels[i] = id"
   ]
  },
  {
   "cell_type": "code",
   "execution_count": 9,
   "metadata": {},
   "outputs": [],
   "source": [
    "data = [data[i]/255 for i in range(len(data))]"
   ]
  },
  {
   "cell_type": "code",
   "execution_count": 10,
   "metadata": {},
   "outputs": [
    {
     "name": "stdout",
     "output_type": "stream",
     "text": [
      "<class 'numpy.ndarray'>\n",
      "<class 'numpy.ndarray'>\n"
     ]
    }
   ],
   "source": [
    "labels = np.array(labels, dtype=np.uint8)\n",
    "data = np.array(data, dtype=np.uint8)\n",
    "print(type(data))\n",
    "print(type(labels))\n",
    "assert data.shape[0] == labels.shape[0]"
   ]
  },
  {
   "cell_type": "code",
   "execution_count": 11,
   "metadata": {},
   "outputs": [
    {
     "name": "stdout",
     "output_type": "stream",
     "text": [
      "36576\n",
      "36576\n"
     ]
    }
   ],
   "source": [
    "print(len(data))\n",
    "print(len(labels))"
   ]
  },
  {
   "cell_type": "code",
   "execution_count": 12,
   "metadata": {},
   "outputs": [
    {
     "name": "stdout",
     "output_type": "stream",
     "text": [
      "32918\n",
      "3658\n",
      "32918\n",
      "3658\n"
     ]
    }
   ],
   "source": [
    "data_train, data_test, labels_train, labels_test = train_test_split(data, labels, test_size=0.1)\n",
    "print(len(data_train))\n",
    "print(len(data_test))\n",
    "print(len(labels_train))\n",
    "print(len(labels_test))"
   ]
  },
  {
   "cell_type": "code",
   "execution_count": 13,
   "metadata": {},
   "outputs": [
    {
     "data": {
      "image/png": "[encoded data removed]",
      "text/plain": [
       "<Figure size 300x300 with 1 Axes>"
      ]
     },
     "metadata": {},
     "output_type": "display_data"
    }
   ],
   "source": [
    "show(data_train[0])"
   ]
  },
  {
   "cell_type": "code",
   "execution_count": 14,
   "metadata": {},
   "outputs": [
    {
     "name": "stderr",
     "output_type": "stream",
     "text": [
      "2024-01-09 23:04:24.209980: E external/local_xla/xla/stream_executor/cuda/cuda_driver.cc:274] failed call to cuInit: CUDA_ERROR_NO_DEVICE: no CUDA-capable device is detected\n"
     ]
    }
   ],
   "source": [
    "model = tf.keras.Sequential([\n",
    "    tf.keras.layers.Flatten(\n",
    "        input_shape = (28,28,1)\n",
    "    )\n",
    "    ,tf.keras.layers.Dense(\n",
    "        units = 50\n",
    "        ,activation=\"relu\"\n",
    "    )\n",
    "    ,tf.keras.layers.Dense(\n",
    "        units = 36\n",
    "        ,activation = \"softmax\"\n",
    "    )\n",
    "])"
   ]
  },
  {
   "cell_type": "code",
   "execution_count": 18,
   "metadata": {},
   "outputs": [
    {
     "name": "stdout",
     "output_type": "stream",
     "text": [
      "Model: \"sequential\"\n",
      "_________________________________________________________________\n",
      " Layer (type)                Output Shape              Param #   \n",
      "=================================================================\n",
      " flatten (Flatten)           (None, 784)               0         \n",
      "                                                                 \n",
      " dense (Dense)               (None, 50)                39250     \n",
      "                                                                 \n",
      " dense_1 (Dense)             (None, 36)                1836      \n",
      "                                                                 \n",
      "=================================================================\n",
      "Total params: 41086 (160.49 KB)\n",
      "Trainable params: 41086 (160.49 KB)\n",
      "Non-trainable params: 0 (0.00 Byte)\n",
      "_________________________________________________________________\n"
     ]
    }
   ],
   "source": [
    "model.summary()"
   ]
  },
  {
   "cell_type": "code",
   "execution_count": 15,
   "metadata": {},
   "outputs": [
    {
     "name": "stdout",
     "output_type": "stream",
     "text": [
      "Epoch 1/60\n",
      "1029/1029 [==============================] - 3s 2ms/step - loss: 0.9453 - accuracy: 0.7841\n",
      "Epoch 2/60\n",
      "1029/1029 [==============================] - 2s 2ms/step - loss: 0.4553 - accuracy: 0.8870\n",
      "Epoch 3/60\n",
      "1029/1029 [==============================] - 2s 2ms/step - loss: 0.3727 - accuracy: 0.9037\n",
      "Epoch 4/60\n",
      "1029/1029 [==============================] - 2s 2ms/step - loss: 0.3187 - accuracy: 0.9164\n",
      "Epoch 5/60\n",
      "1029/1029 [==============================] - 2s 2ms/step - loss: 0.2803 - accuracy: 0.9254\n",
      "Epoch 6/60\n",
      "1029/1029 [==============================] - 2s 2ms/step - loss: 0.2475 - accuracy: 0.9336\n",
      "Epoch 7/60\n",
      "1029/1029 [==============================] - 2s 2ms/step - loss: 0.2203 - accuracy: 0.9399\n",
      "Epoch 8/60\n",
      "1029/1029 [==============================] - 3s 2ms/step - loss: 0.1963 - accuracy: 0.9465\n",
      "Epoch 9/60\n",
      "1029/1029 [==============================] - 2s 2ms/step - loss: 0.1768 - accuracy: 0.9514\n",
      "Epoch 10/60\n",
      "1029/1029 [==============================] - 2s 2ms/step - loss: 0.1590 - accuracy: 0.9559\n",
      "Epoch 11/60\n",
      "1029/1029 [==============================] - 2s 2ms/step - loss: 0.1436 - accuracy: 0.9590\n",
      "Epoch 12/60\n",
      "1029/1029 [==============================] - 2s 2ms/step - loss: 0.1287 - accuracy: 0.9638\n",
      "Epoch 13/60\n",
      "1029/1029 [==============================] - 2s 2ms/step - loss: 0.1186 - accuracy: 0.9656\n",
      "Epoch 14/60\n",
      "1029/1029 [==============================] - 2s 2ms/step - loss: 0.1076 - accuracy: 0.9694\n",
      "Epoch 15/60\n",
      "1029/1029 [==============================] - 3s 3ms/step - loss: 0.0981 - accuracy: 0.9714\n",
      "Epoch 16/60\n",
      "1029/1029 [==============================] - 3s 2ms/step - loss: 0.0891 - accuracy: 0.9745\n",
      "Epoch 17/60\n",
      "1029/1029 [==============================] - 3s 3ms/step - loss: 0.0819 - accuracy: 0.9766\n",
      "Epoch 18/60\n",
      "1029/1029 [==============================] - 3s 2ms/step - loss: 0.0760 - accuracy: 0.9782\n",
      "Epoch 19/60\n",
      "1029/1029 [==============================] - 2s 2ms/step - loss: 0.0696 - accuracy: 0.9803\n",
      "Epoch 20/60\n",
      "1029/1029 [==============================] - 2s 2ms/step - loss: 0.0668 - accuracy: 0.9799\n",
      "Epoch 21/60\n",
      "1029/1029 [==============================] - 3s 2ms/step - loss: 0.0598 - accuracy: 0.9833\n",
      "Epoch 22/60\n",
      "1029/1029 [==============================] - 2s 2ms/step - loss: 0.0584 - accuracy: 0.9826\n",
      "Epoch 23/60\n",
      "1029/1029 [==============================] - 2s 2ms/step - loss: 0.0547 - accuracy: 0.9837\n",
      "Epoch 24/60\n",
      "1029/1029 [==============================] - 2s 2ms/step - loss: 0.0499 - accuracy: 0.9856\n",
      "Epoch 25/60\n",
      "1029/1029 [==============================] - 2s 2ms/step - loss: 0.0498 - accuracy: 0.9851\n",
      "Epoch 26/60\n",
      "1029/1029 [==============================] - 3s 3ms/step - loss: 0.0474 - accuracy: 0.9858\n",
      "Epoch 27/60\n",
      "1029/1029 [==============================] - 2s 2ms/step - loss: 0.0424 - accuracy: 0.9871\n",
      "Epoch 28/60\n",
      "1029/1029 [==============================] - 2s 2ms/step - loss: 0.0420 - accuracy: 0.9871\n",
      "Epoch 29/60\n",
      "1029/1029 [==============================] - 2s 2ms/step - loss: 0.0395 - accuracy: 0.9876\n",
      "Epoch 30/60\n",
      "1029/1029 [==============================] - 2s 2ms/step - loss: 0.0401 - accuracy: 0.9873\n",
      "Epoch 31/60\n",
      "1029/1029 [==============================] - 2s 2ms/step - loss: 0.0389 - accuracy: 0.9881\n",
      "Epoch 32/60\n",
      "1029/1029 [==============================] - 3s 3ms/step - loss: 0.0365 - accuracy: 0.9886\n",
      "Epoch 33/60\n",
      "1029/1029 [==============================] - 3s 2ms/step - loss: 0.0324 - accuracy: 0.9897\n",
      "Epoch 34/60\n",
      "1029/1029 [==============================] - 4s 4ms/step - loss: 0.0341 - accuracy: 0.9896\n",
      "Epoch 35/60\n",
      "1029/1029 [==============================] - 4s 4ms/step - loss: 0.0324 - accuracy: 0.9892\n",
      "Epoch 36/60\n",
      "1029/1029 [==============================] - 2s 2ms/step - loss: 0.0323 - accuracy: 0.9893\n",
      "Epoch 37/60\n",
      "1029/1029 [==============================] - 2s 2ms/step - loss: 0.0318 - accuracy: 0.9899\n",
      "Epoch 38/60\n",
      "1029/1029 [==============================] - 2s 2ms/step - loss: 0.0283 - accuracy: 0.9908\n",
      "Epoch 39/60\n",
      "1029/1029 [==============================] - 2s 2ms/step - loss: 0.0291 - accuracy: 0.9908\n",
      "Epoch 40/60\n",
      "1029/1029 [==============================] - 2s 2ms/step - loss: 0.0282 - accuracy: 0.9906\n",
      "Epoch 41/60\n",
      "1029/1029 [==============================] - 2s 2ms/step - loss: 0.0277 - accuracy: 0.9908\n",
      "Epoch 42/60\n",
      "1029/1029 [==============================] - 3s 3ms/step - loss: 0.0290 - accuracy: 0.9907\n",
      "Epoch 43/60\n",
      "1029/1029 [==============================] - 3s 3ms/step - loss: 0.0249 - accuracy: 0.9921\n",
      "Epoch 44/60\n",
      "1029/1029 [==============================] - 2s 2ms/step - loss: 0.0253 - accuracy: 0.9916\n",
      "Epoch 45/60\n",
      "1029/1029 [==============================] - 2s 2ms/step - loss: 0.0247 - accuracy: 0.9921\n",
      "Epoch 46/60\n",
      "1029/1029 [==============================] - 2s 2ms/step - loss: 0.0278 - accuracy: 0.9903\n",
      "Epoch 47/60\n",
      "1029/1029 [==============================] - 2s 2ms/step - loss: 0.0216 - accuracy: 0.9928\n",
      "Epoch 48/60\n",
      "1029/1029 [==============================] - 2s 2ms/step - loss: 0.0283 - accuracy: 0.9902\n",
      "Epoch 49/60\n",
      "1029/1029 [==============================] - 2s 2ms/step - loss: 0.0201 - accuracy: 0.9936\n",
      "Epoch 50/60\n",
      "1029/1029 [==============================] - 2s 2ms/step - loss: 0.0205 - accuracy: 0.9931\n",
      "Epoch 51/60\n",
      "1029/1029 [==============================] - 2s 2ms/step - loss: 0.0287 - accuracy: 0.9902\n",
      "Epoch 52/60\n",
      "1029/1029 [==============================] - 2s 2ms/step - loss: 0.0197 - accuracy: 0.9932\n",
      "Epoch 53/60\n",
      "1029/1029 [==============================] - 3s 2ms/step - loss: 0.0199 - accuracy: 0.9934\n",
      "Epoch 54/60\n",
      "1029/1029 [==============================] - 2s 2ms/step - loss: 0.0185 - accuracy: 0.9942\n",
      "Epoch 55/60\n",
      "1029/1029 [==============================] - 2s 2ms/step - loss: 0.0261 - accuracy: 0.9915\n",
      "Epoch 56/60\n",
      "1029/1029 [==============================] - 2s 2ms/step - loss: 0.0167 - accuracy: 0.9949\n",
      "Epoch 57/60\n",
      "1029/1029 [==============================] - 2s 2ms/step - loss: 0.0221 - accuracy: 0.9925\n",
      "Epoch 58/60\n",
      "1029/1029 [==============================] - 3s 3ms/step - loss: 0.0195 - accuracy: 0.9933\n",
      "Epoch 59/60\n",
      "1029/1029 [==============================] - 2s 2ms/step - loss: 0.0173 - accuracy: 0.9940\n",
      "Epoch 60/60\n",
      "1029/1029 [==============================] - 2s 2ms/step - loss: 0.0188 - accuracy: 0.9940\n"
     ]
    }
   ],
   "source": [
    "model.compile(\n",
    "    optimizer='adam',\n",
    "    loss='sparse_categorical_crossentropy',\n",
    "    metrics=['accuracy']\n",
    ")\n",
    "\n",
    "history =  model.fit(\n",
    "    data_train\n",
    "    ,labels_train\n",
    "    ,epochs = 60\n",
    ")"
   ]
  },
  {
   "cell_type": "code",
   "execution_count": 16,
   "metadata": {},
   "outputs": [
    {
     "name": "stdout",
     "output_type": "stream",
     "text": [
      "115/115 [==============================] - 0s 2ms/step - loss: 0.4103 - accuracy: 0.9347\n"
     ]
    },
    {
     "data": {
      "text/plain": [
       "[0.41026267409324646, 0.9346637725830078]"
      ]
     },
     "execution_count": 16,
     "metadata": {},
     "output_type": "execute_result"
    }
   ],
   "source": [
    "model.evaluate(data_test, labels_test)"
   ]
  },
  {
   "cell_type": "code",
   "execution_count": 19,
   "metadata": {},
   "outputs": [
    {
     "name": "stdout",
     "output_type": "stream",
     "text": [
      "INFO:tensorflow:Assets written to: ./models/ann/assets\n"
     ]
    },
    {
     "name": "stderr",
     "output_type": "stream",
     "text": [
      "INFO:tensorflow:Assets written to: ./models/ann/assets\n"
     ]
    }
   ],
   "source": [
    "model.save(\"./models/ann\")"
   ]
  }
 ],
 "metadata": {
  "kernelspec": {
   "display_name": "ia",
   "language": "python",
   "name": "python3"
  },
  "language_info": {
   "codemirror_mode": {
    "name": "ipython",
    "version": 3
   },
   "file_extension": ".py",
   "mimetype": "text/x-python",
   "name": "python",
   "nbconvert_exporter": "python",
   "pygments_lexer": "ipython3",
   "version": "3.10.13"
  }
 },
 "nbformat": 4,
 "nbformat_minor": 2
}

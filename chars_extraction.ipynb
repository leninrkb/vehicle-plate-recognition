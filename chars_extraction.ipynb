{
 "cells": [
  {
   "cell_type": "code",
   "execution_count": 27,
   "metadata": {},
   "outputs": [],
   "source": [
    "import cv2 as cv\n",
    "import data_preparation as dp\n",
    "import utils as ut\n",
    "import numpy as np"
   ]
  },
  {
   "cell_type": "code",
   "execution_count": 7,
   "metadata": {},
   "outputs": [],
   "source": [
    "def sortChars(chars):\n",
    "    sorted_chars = sorted(chars, key=lambda x: x[1])\n",
    "    sorted_chars = [c[0] for c in sorted_chars]\n",
    "    return sorted_chars"
   ]
  },
  {
   "cell_type": "code",
   "execution_count": 131,
   "metadata": {},
   "outputs": [],
   "source": [
    "def chars(img):\n",
    "    contours, _ = cv.findContours(img, cv.RETR_TREE, cv.CHAIN_APPROX_SIMPLE)\n",
    "    characters = []\n",
    "    areas = []\n",
    "    for contour in contours:\n",
    "        area = cv.contourArea(contour)\n",
    "        if area > 10:\n",
    "            x, y, w, h = cv.boundingRect(contour)\n",
    "            # aspect_ratio = w / h\n",
    "            if w < h :\n",
    "                area =  h\n",
    "                # print(cv.contourArea(contour), (w*h))\n",
    "                areas.append(area)\n",
    "                ch = img[y : y + h, x : x + w]\n",
    "                characters.append((ch, x, area))\n",
    "    avg = np.average(areas)\n",
    "    std = np.std(areas) / avg\n",
    "    selected_chars = []\n",
    "    for char in characters:\n",
    "        print(char[2])\n",
    "        if char[2] >= avg:\n",
    "            selected_chars.append(char)\n",
    "    print(\"statistics\")\n",
    "    print(avg)\n",
    "    print(std)\n",
    "    return sortChars(selected_chars)"
   ]
  },
  {
   "cell_type": "code",
   "execution_count": 127,
   "metadata": {},
   "outputs": [
    {
     "data": {
      "image/png": "[encoded data removed]",
      "text/plain": [
       "<Figure size 300x300 with 1 Axes>"
      ]
     },
     "metadata": {},
     "output_type": "display_data"
    }
   ],
   "source": [
    "img = cv.imread(\"/home/lenin/Documents/plate4.png\", cv.IMREAD_GRAYSCALE)\n",
    "ut.show(img)"
   ]
  },
  {
   "cell_type": "code",
   "execution_count": 132,
   "metadata": {},
   "outputs": [
    {
     "name": "stdout",
     "output_type": "stream",
     "text": [
      "51\n",
      "51\n",
      "50\n",
      "50\n",
      "17\n",
      "50\n",
      "17\n",
      "50\n",
      "17\n",
      "statistics\n",
      "39.22222222222222\n",
      "0.400747241592431\n"
     ]
    },
    {
     "data": {
      "image/png": "[encoded data removed]",
      "text/plain": [
       "<Figure size 100x100 with 1 Axes>"
      ]
     },
     "metadata": {},
     "output_type": "display_data"
    },
    {
     "data": {
      "image/png": "[encoded data removed]",
      "text/plain": [
       "<Figure size 100x100 with 1 Axes>"
      ]
     },
     "metadata": {},
     "output_type": "display_data"
    },
    {
     "data": {
      "image/png": "[encoded data removed]",
      "text/plain": [
       "<Figure size 100x100 with 1 Axes>"
      ]
     },
     "metadata": {},
     "output_type": "display_data"
    },
    {
     "data": {
      "image/png": "[encoded data removed]",
      "text/plain": [
       "<Figure size 100x100 with 1 Axes>"
      ]
     },
     "metadata": {},
     "output_type": "display_data"
    },
    {
     "data": {
      "image/png": "[encoded data removed]",
      "text/plain": [
       "<Figure size 100x100 with 1 Axes>"
      ]
     },
     "metadata": {},
     "output_type": "display_data"
    },
    {
     "data": {
      "image/png": "[encoded data removed]",
      "text/plain": [
       "<Figure size 100x100 with 1 Axes>"
      ]
     },
     "metadata": {},
     "output_type": "display_data"
    }
   ],
   "source": [
    "objects = chars(img)\n",
    "for c in objects:\n",
    "    ut.show(c, dim=1)"
   ]
  },
  {
   "cell_type": "code",
   "execution_count": null,
   "metadata": {},
   "outputs": [],
   "source": []
  }
 ],
 "metadata": {
  "kernelspec": {
   "display_name": "ia",
   "language": "python",
   "name": "python3"
  },
  "language_info": {
   "codemirror_mode": {
    "name": "ipython",
    "version": 3
   },
   "file_extension": ".py",
   "mimetype": "text/x-python",
   "name": "python",
   "nbconvert_exporter": "python",
   "pygments_lexer": "ipython3",
   "version": "3.10.13"
  }
 },
 "nbformat": 4,
 "nbformat_minor": 2
}
